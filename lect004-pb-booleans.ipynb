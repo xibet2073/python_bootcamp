{
 "cells": [
  {
   "cell_type": "code",
   "execution_count": 1,
   "id": "e249c745",
   "metadata": {
    "_cell_guid": "b1076dfc-b9ad-4769-8c92-a6c4dae69d19",
    "_uuid": "8f2839f25d086af736a60e9eeb907d3b93b6e0e5",
    "execution": {
     "iopub.execute_input": "2023-05-21T20:02:15.435640Z",
     "iopub.status.busy": "2023-05-21T20:02:15.434978Z",
     "iopub.status.idle": "2023-05-21T20:02:15.440514Z",
     "shell.execute_reply": "2023-05-21T20:02:15.438984Z"
    },
    "papermill": {
     "duration": 0.011922,
     "end_time": "2023-05-21T20:02:15.443390",
     "exception": false,
     "start_time": "2023-05-21T20:02:15.431468",
     "status": "completed"
    },
    "tags": []
   },
   "outputs": [],
   "source": [
    "### Booleans"
   ]
  },
  {
   "cell_type": "code",
   "execution_count": null,
   "id": "37568b28",
   "metadata": {
    "papermill": {
     "duration": 0.00107,
     "end_time": "2023-05-21T20:02:15.446303",
     "exception": false,
     "start_time": "2023-05-21T20:02:15.445233",
     "status": "completed"
    },
    "tags": []
   },
   "outputs": [],
   "source": []
  }
 ],
 "metadata": {
  "kernelspec": {
   "display_name": "Python 3",
   "language": "python",
   "name": "python3"
  },
  "language_info": {
   "codemirror_mode": {
    "name": "ipython",
    "version": 3
   },
   "file_extension": ".py",
   "mimetype": "text/x-python",
   "name": "python",
   "nbconvert_exporter": "python",
   "pygments_lexer": "ipython3",
   "version": "3.10.10"
  },
  "papermill": {
   "default_parameters": {},
   "duration": 11.785558,
   "end_time": "2023-05-21T20:02:16.373176",
   "environment_variables": {},
   "exception": null,
   "input_path": "__notebook__.ipynb",
   "output_path": "__notebook__.ipynb",
   "parameters": {},
   "start_time": "2023-05-21T20:02:04.587618",
   "version": "2.4.0"
  }
 },
 "nbformat": 4,
 "nbformat_minor": 5
}
