{
 "cells": [
  {
   "cell_type": "markdown",
   "id": "a60bcc38",
   "metadata": {
    "_cell_guid": "b1076dfc-b9ad-4769-8c92-a6c4dae69d19",
    "_uuid": "8f2839f25d086af736a60e9eeb907d3b93b6e0e5",
    "papermill": {
     "duration": 0.003732,
     "end_time": "2023-05-01T14:19:45.484577",
     "exception": false,
     "start_time": "2023-05-01T14:19:45.480845",
     "status": "completed"
    },
    "tags": []
   },
   "source": [
    "### Float division"
   ]
  },
  {
   "cell_type": "code",
   "execution_count": 1,
   "id": "4dbd6517",
   "metadata": {
    "execution": {
     "iopub.execute_input": "2023-05-01T14:19:45.492747Z",
     "iopub.status.busy": "2023-05-01T14:19:45.492179Z",
     "iopub.status.idle": "2023-05-01T14:19:45.506939Z",
     "shell.execute_reply": "2023-05-01T14:19:45.505662Z"
    },
    "papermill": {
     "duration": 0.022058,
     "end_time": "2023-05-01T14:19:45.509586",
     "exception": false,
     "start_time": "2023-05-01T14:19:45.487528",
     "status": "completed"
    },
    "tags": []
   },
   "outputs": [
    {
     "name": "stdout",
     "output_type": "stream",
     "text": [
      "4.0\n"
     ]
    }
   ],
   "source": [
    "float_division = 12 / 3 \n",
    "print(float_division)"
   ]
  },
  {
   "cell_type": "markdown",
   "id": "d8ecc86b",
   "metadata": {
    "papermill": {
     "duration": 0.002601,
     "end_time": "2023-05-01T14:19:45.515138",
     "exception": false,
     "start_time": "2023-05-01T14:19:45.512537",
     "status": "completed"
    },
    "tags": []
   },
   "source": [
    "### Integer division"
   ]
  },
  {
   "cell_type": "code",
   "execution_count": 2,
   "id": "b704873d",
   "metadata": {
    "execution": {
     "iopub.execute_input": "2023-05-01T14:19:45.523430Z",
     "iopub.status.busy": "2023-05-01T14:19:45.522492Z",
     "iopub.status.idle": "2023-05-01T14:19:45.528776Z",
     "shell.execute_reply": "2023-05-01T14:19:45.527111Z"
    },
    "papermill": {
     "duration": 0.013062,
     "end_time": "2023-05-01T14:19:45.531022",
     "exception": false,
     "start_time": "2023-05-01T14:19:45.517960",
     "status": "completed"
    },
    "tags": []
   },
   "outputs": [
    {
     "name": "stdout",
     "output_type": "stream",
     "text": [
      "4\n"
     ]
    }
   ],
   "source": [
    "integer_division = 12 // 3 \n",
    "print(integer_division)"
   ]
  },
  {
   "cell_type": "code",
   "execution_count": 3,
   "id": "42a65ac3",
   "metadata": {
    "execution": {
     "iopub.execute_input": "2023-05-01T14:19:45.539691Z",
     "iopub.status.busy": "2023-05-01T14:19:45.538616Z",
     "iopub.status.idle": "2023-05-01T14:19:45.545167Z",
     "shell.execute_reply": "2023-05-01T14:19:45.543764Z"
    },
    "papermill": {
     "duration": 0.013636,
     "end_time": "2023-05-01T14:19:45.547927",
     "exception": false,
     "start_time": "2023-05-01T14:19:45.534291",
     "status": "completed"
    },
    "tags": []
   },
   "outputs": [
    {
     "name": "stdout",
     "output_type": "stream",
     "text": [
      "2\n"
     ]
    }
   ],
   "source": [
    "integer_division = 8 // 3\n",
    "print(integer_division)"
   ]
  },
  {
   "cell_type": "markdown",
   "id": "9f96bcd9",
   "metadata": {
    "papermill": {
     "duration": 0.003475,
     "end_time": "2023-05-01T14:19:45.555185",
     "exception": false,
     "start_time": "2023-05-01T14:19:45.551710",
     "status": "completed"
    },
    "tags": []
   },
   "source": [
    "### Print function\n"
   ]
  },
  {
   "cell_type": "code",
   "execution_count": 4,
   "id": "25fe8adb",
   "metadata": {
    "execution": {
     "iopub.execute_input": "2023-05-01T14:19:45.563774Z",
     "iopub.status.busy": "2023-05-01T14:19:45.563005Z",
     "iopub.status.idle": "2023-05-01T14:19:45.569894Z",
     "shell.execute_reply": "2023-05-01T14:19:45.568635Z"
    },
    "papermill": {
     "duration": 0.014205,
     "end_time": "2023-05-01T14:19:45.572442",
     "exception": false,
     "start_time": "2023-05-01T14:19:45.558237",
     "status": "completed"
    },
    "tags": []
   },
   "outputs": [
    {
     "name": "stdout",
     "output_type": "stream",
     "text": [
      "4\n",
      "3.141\n",
      "12345\n"
     ]
    }
   ],
   "source": [
    "print(4)\n",
    "print(3.141)\n",
    "print(12345)"
   ]
  },
  {
   "cell_type": "code",
   "execution_count": 5,
   "id": "e78e3dfc",
   "metadata": {
    "execution": {
     "iopub.execute_input": "2023-05-01T14:19:45.580668Z",
     "iopub.status.busy": "2023-05-01T14:19:45.580207Z",
     "iopub.status.idle": "2023-05-01T14:19:45.586047Z",
     "shell.execute_reply": "2023-05-01T14:19:45.584704Z"
    },
    "papermill": {
     "duration": 0.013733,
     "end_time": "2023-05-01T14:19:45.589266",
     "exception": false,
     "start_time": "2023-05-01T14:19:45.575533",
     "status": "completed"
    },
    "tags": []
   },
   "outputs": [
    {
     "name": "stdout",
     "output_type": "stream",
     "text": [
      "7.2\n",
      "6.0\n"
     ]
    }
   ],
   "source": [
    "print(4 + 3.2)\n",
    "print(4 + 2.0)"
   ]
  }
 ],
 "metadata": {
  "kernelspec": {
   "display_name": "Python 3",
   "language": "python",
   "name": "python3"
  },
  "language_info": {
   "codemirror_mode": {
    "name": "ipython",
    "version": 3
   },
   "file_extension": ".py",
   "mimetype": "text/x-python",
   "name": "python",
   "nbconvert_exporter": "python",
   "pygments_lexer": "ipython3",
   "version": "3.7.12"
  },
  "papermill": {
   "default_parameters": {},
   "duration": 11.556085,
   "end_time": "2023-05-01T14:19:46.318754",
   "environment_variables": {},
   "exception": null,
   "input_path": "__notebook__.ipynb",
   "output_path": "__notebook__.ipynb",
   "parameters": {},
   "start_time": "2023-05-01T14:19:34.762669",
   "version": "2.4.0"
  }
 },
 "nbformat": 4,
 "nbformat_minor": 5
}
